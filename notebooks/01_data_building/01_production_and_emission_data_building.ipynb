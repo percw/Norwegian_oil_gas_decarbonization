{
 "cells": [
  {
   "cell_type": "code",
   "execution_count": null,
   "metadata": {},
   "outputs": [],
   "source": [
    "import pandas as pd\n",
    "import numpy as np\n",
    "import matplotlib.pyplot as plt\n",
    "import seaborn as sns\n",
    "\n",
    "pd.set_option('display.max_columns', None)"
   ]
  },
  {
   "cell_type": "markdown",
   "metadata": {},
   "source": [
    "# Oil and Gas Production and Emissions Data on the Norwegian Continental Shelf\n",
    "\n",
    "## Part 1: Data Collection\n",
    "\n",
    "---\n",
    "\n",
    "This notebook is part of a series of notebooks. The series consist of other following parts:\n",
    "\n",
    "#### Part 2: [Data Cleaning](https://github.com/percw/Norwegian_oil_gas_decarbonization/blob/main/notebooks/02_data_cleaning/02_production_and_emission_data_cleaning.ipynb)\n",
    "\n",
    "#### Part 3: [Data Processing](https://github.com/percw/Norwegian_oil_gas_decarbonization/blob/main/notebooks/03_data_processing/03_production_and_emission_data_processing.ipynb)\n",
    "\n",
    "---\n"
   ]
  },
  {
   "cell_type": "markdown",
   "metadata": {},
   "source": [
    "This notebook serves to gather all relevant production and emission data for the oil and gas industry on the Norwegian Continental Shelf. The data is gathered from the Norwegian Petroleum Directorate (NPD) and the Norwegian Environment Agency (NEA). The data is then processed and stored in a structured format for further analysis.\n",
    "\n",
    "The data is gathered from the following sources:\n",
    "\n",
    "- [NPD](https://factpages.npd.no/factpages/Default.aspx?culture=en)\n",
    "\n",
    "General information about the Norwegian oil industry can be found on [Norsk Petroleum](https://www.norskpetroleum.no/en/).\n"
   ]
  },
  {
   "cell_type": "markdown",
   "metadata": {},
   "source": [
    "## Table of Contents:\n",
    "\n",
    "1. [Importing data](#Importing-and-preparing-data)\n",
    "   1. [Production](#Production)\n",
    "   2. [Operators](#Operators)\n",
    "   3. [Licenses](#Licenses)\n",
    "   4. [Investments](#Investments)\n",
    "   5. [Future Investments](#Future-Investments)\n",
    "   6. [Emissions](#Emissions)\n"
   ]
  },
  {
   "cell_type": "markdown",
   "metadata": {},
   "source": [
    "## Data Importing and Preparation\n"
   ]
  },
  {
   "cell_type": "markdown",
   "metadata": {},
   "source": [
    "### Production\n"
   ]
  },
  {
   "cell_type": "markdown",
   "metadata": {},
   "source": [
    "Attribute information can be found at the [SODIR Factpages](https://factpages.sodir.no/en/field/Attributes) website.\n"
   ]
  },
  {
   "cell_type": "code",
   "execution_count": null,
   "metadata": {},
   "outputs": [],
   "source": [
    "def fetch_dataframe(url, sep=';', filetype='csv'):\n",
    "\t# Difi hotell uses comma separated values\n",
    "\tif filetype == 'csv':\n",
    "\t\tdf = pd.read_csv(url, sep=sep)\n",
    "\telif filetype == 'excel':\n",
    "\t\tdf = pd.read_excel(url)\n",
    "\treturn df\n"
   ]
  },
  {
   "cell_type": "code",
   "execution_count": null,
   "metadata": {},
   "outputs": [],
   "source": [
    "# ------ Original Sources ------\n",
    "#production_url = 'https://factpages.sodir.no/public?/Factpages/external/tableview/field_production_monthly&rs:Command=Render&rc:Toolbar=false&rc:Parameters=f&IpAddress=not_used&CultureCode=en&rs:Format=CSV&Top100=false'\n",
    "#\n",
    "# Exporting data \n",
    "#production_monthly_df.to_csv('../../data/output/emissions_and_production/production_monthly.csv', index=False)\n",
    "#production_monthly.csv', index=False)\n",
    "\n",
    "# ------ Fetching data from GitHub repo ------\n",
    "base_output_url = \"https://github.com/percw/Norwegian_oil_gas_decarbonization/raw/main/data/output/emissions_and_production/\"\n",
    "production_url = 'production_monthly.csv'\n",
    "\n",
    "production_monthly_df = fetch_dataframe(base_output_url + production_url, sep=',')\n",
    "production_monthly_df\n"
   ]
  },
  {
   "cell_type": "code",
   "execution_count": null,
   "metadata": {},
   "outputs": [],
   "source": [
    "production_monthly_df['prfInformationCarrier'].unique()"
   ]
  },
  {
   "cell_type": "markdown",
   "metadata": {},
   "source": [
    "### Operators\n"
   ]
  },
  {
   "cell_type": "code",
   "execution_count": null,
   "metadata": {},
   "outputs": [],
   "source": [
    "# ------ Original data source (accessed 21.05.2024) ------\n",
    "# operators_url = 'https://factpages.sodir.no/public?/Factpages/external/tableview/field_operator_hst&rs:Command=Render&rc:Toolbar=false&rc:Parameters=f&IpAddress=not_used&CultureCode=en&rs:Format=CSV&Top100=false'\n",
    "# operators_df = fetch_dataframe(operators_url, sep=',')\n",
    "# \n",
    "# Exporting the operators_df to a csv file in a folder called data/output\n",
    "# operators_df.to_csv('../../data/output/emissions_and_production/operators.csv', index=False)\n",
    "\n",
    "# ------ Fetching data from GitHub repo ------\n",
    "operators_url = 'operators.csv'\n",
    "operators_df = fetch_dataframe(base_output_url + operators_url, sep=',')\n",
    "display(operators_df.head())\n"
   ]
  },
  {
   "cell_type": "markdown",
   "metadata": {},
   "source": [
    "### Licenses\n"
   ]
  },
  {
   "cell_type": "code",
   "execution_count": null,
   "metadata": {},
   "outputs": [],
   "source": [
    "# ------ Original data source (accessed 21.05.2024) ------\n",
    "# licensees_url = 'https://factpages.sodir.no/public?/Factpages/external/tableview/field_licensee_hst&rs:Command=Render&rc:Toolbar=false&rc:Parameters=f&IpAddress=not_used&CultureCode=en&rs:Format=CSV&Top100=false'\n",
    "# licensees_df = fetch_dataframe(licensees_url, sep=',')\n",
    "#\n",
    "# Exporting the licensees_df to a csv file in a folder called data/output\n",
    "# licensees_df.to_csv('../../data/output/emissions_and_production/licensees.csv', index=False)\n",
    "# licensees_df\n",
    "\n",
    "\n",
    "# ------ Fetching data from GitHub repo ------\n",
    "licensees_url = 'licensees.csv'\n",
    "licensees_df = fetch_dataframe(base_output_url + licensees_url, sep=',')\n",
    "display(licensees_df.head())"
   ]
  },
  {
   "cell_type": "code",
   "execution_count": null,
   "metadata": {},
   "outputs": [],
   "source": [
    "display(licensees_df.head())"
   ]
  },
  {
   "cell_type": "markdown",
   "metadata": {},
   "source": [
    "### Investments\n"
   ]
  },
  {
   "cell_type": "code",
   "execution_count": null,
   "metadata": {},
   "outputs": [],
   "source": [
    "# ------ Original data source (accessed 21.05.2024) ------\n",
    "# investments_url = 'https://factpages.sodir.no/public?/Factpages/external/tableview/field_investment_yearly&rs:Command=Render&rc:Toolbar=false&rc:Parameters=f&IpAddress=not_used&CultureCode=en&rs:Format=CSV&Top100=false'\n",
    "# investments_df = fetch_dataframe(investments_url, sep=',')\n",
    "#\n",
    "# Exporting the investments_df to a csv file in a folder called data/output\n",
    "# investments_df.to_csv('../../data/output/emissions_and_production/investments.csv', index=False)\n",
    "# investments_df\n",
    "\n",
    "# ------ Fetching data from GitHub repo ------\n",
    "investments_url = 'investments.csv'\n",
    "investments_df = fetch_dataframe(base_output_url + investments_url, sep=',')\n",
    "display(investments_df.head())"
   ]
  },
  {
   "cell_type": "code",
   "execution_count": null,
   "metadata": {},
   "outputs": [],
   "source": [
    "display(investments_df.head())"
   ]
  },
  {
   "cell_type": "markdown",
   "metadata": {},
   "source": [
    "### Future investments\n"
   ]
  },
  {
   "cell_type": "code",
   "execution_count": null,
   "metadata": {},
   "outputs": [],
   "source": [
    "# ------ Original data source (accessed 21.05.2024) ------\n",
    "# future_investments_url = 'https://factpages.sodir.no/public?/Factpages/external/tableview/field_investment_expected&rs:Command=Render&rc:Toolbar=false&rc:Parameters=f&IpAddress=not_used&CultureCode=en&rs:Format=CSV&Top100=false'\n",
    "# future_investments_df = fetch_dataframe(future_investments_url, sep=',')\n",
    "# \n",
    "# Exporting the future_investments_df to a csv file in a folder called data/output\n",
    "# future_investments_df.to_csv('../../data/output/emissions_and_production/future_investments.csv', index=False)\n",
    "# future_investments_df\n",
    "\n",
    "# ------ Fetching data from GitHub repo ------\n",
    "future_investments_url = 'future_investments.csv'\n",
    "future_investments_df = fetch_dataframe(base_output_url + future_investments_url, sep=',')\n",
    "display(future_investments_df.head())"
   ]
  },
  {
   "cell_type": "code",
   "execution_count": null,
   "metadata": {},
   "outputs": [],
   "source": [
    "display(future_investments_df.head())"
   ]
  },
  {
   "cell_type": "markdown",
   "metadata": {},
   "source": [
    "### Wellbores\n"
   ]
  },
  {
   "cell_type": "code",
   "execution_count": null,
   "metadata": {},
   "outputs": [],
   "source": [
    "# ----- Experimental Code --------\n",
    "# Code was used to see how many wells has been drilled in the Norwegian Continental Shelf with purpose of CCS\n",
    "# \n",
    "# wellbores_raw_data_url_path = 'https://raw.githubusercontent.com/percw/Norwegian_oil_gas_decarbonization/main/data/raw_data/emission_and_production/Wellbores.csv'\n",
    "\n",
    "# wellbores_df = fetch_dataframe(wellbores_raw_data_url_path, sep=',')\n",
    "# wellbores_df"
   ]
  },
  {
   "cell_type": "code",
   "execution_count": null,
   "metadata": {},
   "outputs": [],
   "source": [
    "# Print all cells where wlbPurpose contains CCS\n",
    "#wellbores_df[wellbores_df['wlbPurpose'].str.contains('CCS', na=False)]"
   ]
  },
  {
   "cell_type": "markdown",
   "metadata": {},
   "source": [
    "### Facilities (rigs)\n"
   ]
  },
  {
   "cell_type": "markdown",
   "metadata": {},
   "source": [
    "#### 1. Fixed facilities (rigs)\n"
   ]
  },
  {
   "cell_type": "code",
   "execution_count": null,
   "metadata": {},
   "outputs": [],
   "source": [
    "# ------ Original data source (accessed 21.05.2024) ------\n",
    "# fixed_facilities_url = 'https://factpages.sodir.no/public?/Factpages/external/tableview/facility_fixed&rs:Command=Render&rc:Toolbar=false&rc:Parameters=f&IpAddress=not_used&CultureCode=en&rs:Format=CSV&Top100=false'\n",
    "# fixed_facilities_df = fetch_dataframe(fixed_facilities_url, sep=',')\n",
    "# \n",
    "# Exporting the fixed_facilities_df to a csv file in a folder called data/output\n",
    "# fixed_facilities_df.to_csv('../../data/output/emissions_and_production/fixed_facilities.csv', index=False)\n",
    "# fixed_facilities_df\n",
    "\n",
    "# ------ Fetching data from GitHub repo ------\n",
    "fixed_facilities_url = 'fixed_facilities.csv'\n",
    "fixed_facilities_df = fetch_dataframe(base_output_url + fixed_facilities_url, sep=',')\n",
    "display(fixed_facilities_df.head())"
   ]
  },
  {
   "cell_type": "code",
   "execution_count": null,
   "metadata": {},
   "outputs": [],
   "source": [
    "display(fixed_facilities_df.head())\n",
    "display(fixed_facilities_df.fclKind.value_counts())"
   ]
  },
  {
   "cell_type": "markdown",
   "metadata": {},
   "source": [
    "#### 2. Movable facilities (rigs)\n"
   ]
  },
  {
   "cell_type": "code",
   "execution_count": null,
   "metadata": {},
   "outputs": [],
   "source": [
    "# ------ Original data source (accessed 21.05.2024) ------\n",
    "# movable_facilities_url = 'https://factpages.sodir.no/public?/Factpages/external/tableview/facility_moveable&rs:Command=Render&rc:Toolbar=false&rc:Parameters=f&IpAddress=not_used&CultureCode=en&rs:Format=CSV&Top100=false'\n",
    "# movable_facilities_df = fetch_dataframe(movable_facilities_url, sep=',')\n",
    "# \n",
    "# Exporting the movable_facilities_df to a csv file in a folder called data/output\n",
    "# movable_facilities_df.to_csv('../../data/output/emissions_and_production/movable_facilities.csv', index=False)\n",
    "# movable_facilities_df\n",
    "\n",
    "# ------ Fetching data from GitHub repo ------\n",
    "movable_facilities_url = 'movable_facilities.csv'\n",
    "movable_facilities_df = fetch_dataframe(base_output_url + movable_facilities_url, sep=',')\n",
    "display(movable_facilities_df.head())\n"
   ]
  },
  {
   "cell_type": "code",
   "execution_count": null,
   "metadata": {},
   "outputs": [],
   "source": [
    "display(movable_facilities_df.head())"
   ]
  },
  {
   "cell_type": "markdown",
   "metadata": {},
   "source": [
    "### Emissions\n"
   ]
  },
  {
   "cell_type": "markdown",
   "metadata": {},
   "source": [
    "#### CO2 emissions\n"
   ]
  },
  {
   "cell_type": "code",
   "execution_count": null,
   "metadata": {},
   "outputs": [],
   "source": [
    "base_url = \"https://github.com/percw/Norwegian_oil_gas_decarbonization/raw/main/data/raw_data/emission_and_production/\"\n",
    "\n",
    "emissions_co2_url = base_url + \"Emissions_CO2.xlsx\"\n",
    "emissions_co2_df = fetch_dataframe(emissions_co2_url, filetype='excel')\n"
   ]
  },
  {
   "cell_type": "code",
   "execution_count": null,
   "metadata": {},
   "outputs": [],
   "source": [
    "# Setting row 0 as column names\n",
    "emissions_co2_df.columns = emissions_co2_df.iloc[1]\n",
    "emissions_co2_df = emissions_co2_df[2:]\n"
   ]
  },
  {
   "cell_type": "code",
   "execution_count": null,
   "metadata": {},
   "outputs": [],
   "source": [
    "display(emissions_co2_df.head())"
   ]
  },
  {
   "cell_type": "code",
   "execution_count": null,
   "metadata": {},
   "outputs": [],
   "source": [
    "emissions_co2_df.isna().sum()"
   ]
  },
  {
   "cell_type": "code",
   "execution_count": null,
   "metadata": {},
   "outputs": [],
   "source": [
    "emissions_co2_df.Anleggsnavn.unique()"
   ]
  },
  {
   "cell_type": "code",
   "execution_count": null,
   "metadata": {},
   "outputs": [],
   "source": [
    "# Convert the 'field' column to strings, strip whitespace, and then to lowercase\n",
    "emissions_co2_df['Anleggsnavn'] = emissions_co2_df['Anleggsnavn'].apply(lambda x: str(x).strip().lower() if pd.notnull(x) else x)\n",
    "\n",
    "# Printing all data about the 'svalin' field\n",
    "lalala = emissions_co2_df[emissions_co2_df['Anleggsnavn'] == 'svalin (equinor energy as)']\n",
    "lalala"
   ]
  },
  {
   "cell_type": "code",
   "execution_count": null,
   "metadata": {},
   "outputs": [],
   "source": [
    "emissions_co2_df"
   ]
  },
  {
   "cell_type": "markdown",
   "metadata": {},
   "source": [
    "#### Methane emissions\n"
   ]
  },
  {
   "cell_type": "code",
   "execution_count": null,
   "metadata": {},
   "outputs": [],
   "source": [
    "emissions_ch4_url = base_url + \"Emissions_methane.xlsx\"\n",
    "emissions_ch4_df = fetch_dataframe(emissions_ch4_url, filetype='excel')"
   ]
  },
  {
   "cell_type": "code",
   "execution_count": null,
   "metadata": {},
   "outputs": [],
   "source": [
    "# Setting row 0 as column names\n",
    "emissions_ch4_df.columns = emissions_ch4_df.iloc[1]\n",
    "emissions_ch4_df = emissions_ch4_df[2:]\n",
    "\n",
    "display(emissions_ch4_df.head())"
   ]
  },
  {
   "cell_type": "markdown",
   "metadata": {},
   "source": [
    "#### NOX emissions\n"
   ]
  },
  {
   "cell_type": "code",
   "execution_count": null,
   "metadata": {},
   "outputs": [],
   "source": [
    "emissions_nox_url = base_url + \"Emissions_NOX.xlsx\"\n",
    "emissions_nox_df = fetch_dataframe(emissions_nox_url, filetype='excel')"
   ]
  },
  {
   "cell_type": "code",
   "execution_count": null,
   "metadata": {},
   "outputs": [],
   "source": [
    "# Setting row 0 as column names\n",
    "emissions_nox_df.columns = emissions_nox_df.iloc[1]\n",
    "emissions_nox_df = emissions_nox_df[2:]\n",
    "\n",
    "display(emissions_nox_df.head())"
   ]
  },
  {
   "cell_type": "markdown",
   "metadata": {},
   "source": [
    "#### Oil spill emissions\n"
   ]
  },
  {
   "cell_type": "code",
   "execution_count": null,
   "metadata": {},
   "outputs": [],
   "source": [
    "emissions_oil_spill = base_url + \"Emissions_oil.xlsx\"\n",
    "emissions_oil_spill_df = fetch_dataframe(emissions_oil_spill, filetype='excel')"
   ]
  },
  {
   "cell_type": "code",
   "execution_count": null,
   "metadata": {},
   "outputs": [],
   "source": [
    "# Setting row 0 as column names\n",
    "emissions_oil_spill_df.columns = emissions_oil_spill_df.iloc[1]\n",
    "emissions_oil_spill_df = emissions_oil_spill_df[2:]"
   ]
  },
  {
   "cell_type": "code",
   "execution_count": null,
   "metadata": {},
   "outputs": [],
   "source": [
    "emissions_oil_spill_df"
   ]
  },
  {
   "cell_type": "markdown",
   "metadata": {},
   "source": [
    "#### Emission to water\n"
   ]
  },
  {
   "cell_type": "code",
   "execution_count": null,
   "metadata": {},
   "outputs": [],
   "source": [
    "emissions_water = base_url + \"Emissions_water.xlsx\"\n",
    "emissions_water_df = fetch_dataframe(emissions_water, filetype='excel')\n"
   ]
  },
  {
   "cell_type": "code",
   "execution_count": null,
   "metadata": {},
   "outputs": [],
   "source": [
    "# Setting row 0 as column names\n",
    "\n",
    "emissions_water_df.columns = emissions_water_df.iloc[1]\n",
    "emissions_water_df = emissions_water_df[2:]"
   ]
  },
  {
   "cell_type": "code",
   "execution_count": null,
   "metadata": {},
   "outputs": [],
   "source": [
    "emissions_water_df"
   ]
  },
  {
   "cell_type": "markdown",
   "metadata": {},
   "source": [
    "## Data Cleaning\n"
   ]
  },
  {
   "cell_type": "code",
   "execution_count": null,
   "metadata": {},
   "outputs": [],
   "source": [
    "# Renaming columns from Norwegian to English\n",
    "\n",
    "def clean_emissions_df(df, emissions_type, unit, water_or_air='luft'):\n",
    "\tif water_or_air == 'vann':\n",
    "\t\tdf = df.rename(columns={'År': 'year', 'Anleggsnavn': 'field', f'Årlig utslipp til {water_or_air}': f'yearly_{emissions_type}_emissions_{unit}', 'Org.nr.': 'org_number', 'Årlig utslipp til undergrunn': f'yearly_subsea_{emissions_type}_emissions'})\n",
    "\t\tdf = df[['field', 'year', f'yearly_{emissions_type}_emissions_{unit}', 'org_number', f'yearly_subsea_{emissions_type}_emissions']]\n",
    "\t\n",
    "\telse:\n",
    "\t\tdf = df.rename(columns={'År': 'year', 'Anleggsnavn': 'field', f'Årlig utslipp til {water_or_air}': f'yearly_{emissions_type}_emissions_{unit}', 'Org.nr.': 'org_number'})\n",
    "\t\tdf = df[['field', 'year', f'yearly_{emissions_type}_emissions_{unit}', 'org_number']]\n",
    "\t\n",
    "\tdf[f'yearly_{emissions_type}_emissions_{unit}'] = pd.to_numeric(df[f'yearly_{emissions_type}_emissions_{unit}'], errors='coerce')\n",
    "\tdf['year'] = pd.to_numeric(df['year'], errors='coerce')\n",
    "\tdf['operator'] = df['field'].str.extract(r'\\((.*?)\\)')\n",
    "\tdf['field'] = df['field'].str.replace(r\"\\(.*\\)\",\"\")\n",
    "\treturn df\n"
   ]
  },
  {
   "cell_type": "code",
   "execution_count": null,
   "metadata": {},
   "outputs": [],
   "source": [
    "emissions_co2_df = clean_emissions_df(emissions_co2_df, 'co2', '1000_tonnes')"
   ]
  },
  {
   "cell_type": "code",
   "execution_count": null,
   "metadata": {},
   "outputs": [],
   "source": [
    "emissions_co2_df"
   ]
  },
  {
   "cell_type": "code",
   "execution_count": null,
   "metadata": {},
   "outputs": [],
   "source": [
    "emissions_ch4_df"
   ]
  },
  {
   "cell_type": "code",
   "execution_count": null,
   "metadata": {},
   "outputs": [],
   "source": [
    "# Methane emissions\n",
    "\n",
    "emissions_ch4_df = clean_emissions_df(emissions_ch4_df, 'ch4', 'tons')"
   ]
  },
  {
   "cell_type": "code",
   "execution_count": null,
   "metadata": {},
   "outputs": [],
   "source": [
    "emissions_ch4_df"
   ]
  },
  {
   "cell_type": "code",
   "execution_count": null,
   "metadata": {},
   "outputs": [],
   "source": [
    "emissions_ch4_df['operator'].unique()"
   ]
  },
  {
   "cell_type": "code",
   "execution_count": null,
   "metadata": {},
   "outputs": [],
   "source": [
    "# NOX emissions\n",
    "\n",
    "emissions_nox_df = clean_emissions_df(emissions_nox_df, 'nox', 'tons')\n",
    "emissions_nox_df"
   ]
  },
  {
   "cell_type": "code",
   "execution_count": null,
   "metadata": {},
   "outputs": [],
   "source": [
    "# Emissions to water\n",
    "\n",
    "emissions_water_df = clean_emissions_df(emissions_water_df, 'water', 'm3', 'vann')\n",
    "emissions_water_df"
   ]
  },
  {
   "cell_type": "code",
   "execution_count": null,
   "metadata": {},
   "outputs": [],
   "source": [
    "# Check for duplicate Year and field values\n",
    "emissions_water_df.duplicated(subset=['year', 'field']).sum()"
   ]
  },
  {
   "cell_type": "code",
   "execution_count": null,
   "metadata": {},
   "outputs": [],
   "source": [
    "emissions_oil_spill_df = clean_emissions_df(emissions_oil_spill_df, 'oil_spill', 'tons', 'vann')\n",
    "emissions_oil_spill_df"
   ]
  },
  {
   "cell_type": "code",
   "execution_count": null,
   "metadata": {},
   "outputs": [],
   "source": [
    "\n",
    "emission_files_dict = {\n",
    "    'emissions_co2': emissions_co2_df,\n",
    "    'emissions_methane': emissions_ch4_df,\n",
    "    'emissions_nox': emissions_nox_df,\n",
    "    'emissions_oil': emissions_oil_spill_df,\n",
    "    'emissions_water': emissions_water_df\n",
    "}\n",
    "\n",
    "# Exporting the cleaned emissions dataframes to csv files in a folder called data/output\n",
    "\n",
    "for key, df in emission_files_dict.items():\n",
    "    df.to_csv(f'../../data/output/emissions_and_production/{key}.csv', index=False)\n",
    "      "
   ]
  },
  {
   "cell_type": "code",
   "execution_count": null,
   "metadata": {},
   "outputs": [],
   "source": [
    "# Removing yearly_subsea_oil_spill_emissions column since it has only NaN values\n",
    "\n",
    "emissions_oil_spill_df = emissions_oil_spill_df.drop(columns='yearly_subsea_oil_spill_emissions')\n"
   ]
  },
  {
   "cell_type": "code",
   "execution_count": null,
   "metadata": {},
   "outputs": [],
   "source": [
    "# Converting field and operator to lower case strings\n",
    "\n",
    "emissions_dfs = [emissions_co2_df, emissions_ch4_df, emissions_nox_df, emissions_water_df, emissions_oil_spill_df]\n",
    "\n",
    "for df in emissions_dfs:\n",
    "\tdf['field'] = df['field'].astype(str).str.lower()\n",
    "\tdf['operator'] = df['operator'].astype(str).str.lower()\n",
    "\t# orgnumber to int64\n",
    "\tdf['org_number'] = pd.to_numeric(df['org_number'], errors='coerce')\n"
   ]
  },
  {
   "cell_type": "code",
   "execution_count": null,
   "metadata": {},
   "outputs": [],
   "source": [
    "# Changing all occurances of 'equinor asa' to 'equinor energy as'\n",
    "\n",
    "for df in emissions_dfs:\n",
    "\tdf['operator'] = df['operator'].replace('equinor asa', 'equinor energy as')\n"
   ]
  },
  {
   "cell_type": "code",
   "execution_count": null,
   "metadata": {},
   "outputs": [],
   "source": [
    "# Removing entirely empty columns (NaN's)\n",
    "for df in emissions_dfs:\n",
    "\tdf = df.dropna(axis=1, how='all', inplace=True)\n"
   ]
  },
  {
   "cell_type": "markdown",
   "metadata": {},
   "source": [
    "## Data Merging\n"
   ]
  },
  {
   "cell_type": "code",
   "execution_count": null,
   "metadata": {},
   "outputs": [],
   "source": [
    "# Checking the shape of all emission dataframes\n",
    "\n",
    "for df in emissions_dfs:\n",
    "\tprint(df.shape)"
   ]
  },
  {
   "cell_type": "code",
   "execution_count": null,
   "metadata": {},
   "outputs": [],
   "source": [
    "# Checking the first and last years of all emission dataframes\n",
    "\n",
    "for df in emissions_dfs:\n",
    "\tprint(df.year.min(), df.year.max())"
   ]
  },
  {
   "cell_type": "code",
   "execution_count": null,
   "metadata": {},
   "outputs": [],
   "source": [
    "# Creating function to print all the missing years between 1997 and 2023 for all dfs\n",
    "\n",
    "def print_missing_years(df):\n",
    "\tmissing_years = set(range(1997, 2023)).difference(df.year)\n",
    "\tprint(missing_years)\n",
    "\n",
    "\n",
    "for df in emissions_dfs:\n",
    "\tprint_missing_years(df)"
   ]
  },
  {
   "cell_type": "code",
   "execution_count": null,
   "metadata": {},
   "outputs": [],
   "source": [
    "# Checking for NaN values for all emissions dataframes\n",
    "for df in emissions_dfs:\n",
    "\tprint(df.isnull().sum())\n",
    "\n",
    "# Checking for NA values for all emissions dataframes\n",
    "for df in emissions_dfs:\n",
    "\tprint(df.isna().sum())\n"
   ]
  },
  {
   "cell_type": "code",
   "execution_count": null,
   "metadata": {},
   "outputs": [],
   "source": [
    "def check_unique_org_number(df):\n",
    "    \"\"\"\n",
    "    Checks if each combination of operator and field has a unique org_number.\n",
    "\n",
    "    Parameters:\n",
    "    df (pd.DataFrame): DataFrame containing the columns 'field', 'operator', and 'org_number'.\n",
    "\n",
    "    Returns:\n",
    "    bool: True if each combination of operator and field has a unique org_number, False otherwise.\n",
    "    \"\"\"\n",
    "    # Check for missing values in 'operator' and 'org_number'\n",
    "    if df[['operator', 'org_number']].isnull().any().any():\n",
    "        print(\"Error: There are missing values in 'operator' or 'org_number'.\")\n",
    "        return False\n",
    "\n",
    "    # Check for duplicate combinations of 'operator' and 'field' with different 'org_number'\n",
    "    duplicates = df.groupby(['operator', 'field'])['org_number'].nunique().reset_index()\n",
    "    if any(duplicates['org_number'] > 1):\n",
    "        print(\"Error: There are duplicate combinations of 'operator' and 'field' with different 'org_number'.\")\n",
    "        return False\n",
    "\n",
    "    return True\n"
   ]
  },
  {
   "cell_type": "code",
   "execution_count": null,
   "metadata": {},
   "outputs": [],
   "source": [
    "\n",
    "for df in emissions_co2_df, emissions_ch4_df, emissions_nox_df, emissions_water_df, emissions_oil_spill_df:\n",
    "    if check_unique_org_number(df):\n",
    "        print(\"Each combination of operator and field has a unique org_number.\")\n",
    "    else:\n",
    "        print(\"There are inconsistencies in the org_number assignment.\")\n"
   ]
  },
  {
   "cell_type": "code",
   "execution_count": null,
   "metadata": {},
   "outputs": [],
   "source": [
    "display(emissions_ch4_df.head())"
   ]
  },
  {
   "cell_type": "code",
   "execution_count": null,
   "metadata": {},
   "outputs": [],
   "source": [
    "def check_operator_consistency(dfs, on_columns):\n",
    "    \"\"\"\n",
    "    Checks if the same combination of field, year, and org_number corresponds to the same operator across all DataFrames.\n",
    "\n",
    "    Parameters:\n",
    "    dfs (list of pd.DataFrame): List of DataFrames to check.\n",
    "    on_columns (list of str): List of column names to check for consistency.\n",
    "\n",
    "    Returns:\n",
    "    bool: True if the consistency check passes, False otherwise.\n",
    "    \"\"\"\n",
    "\n",
    "    # Combine all unique combinations of on_columns and operator\n",
    "    combined = pd.concat([df[on_columns + ['operator']].dropna().drop_duplicates() for df in dfs])\n",
    "    \n",
    "    # Group by on_columns and check for unique operator values\n",
    "    consistency_check = combined.groupby(on_columns)['operator'].nunique().reset_index()\n",
    "    \n",
    "    # If any group has more than one unique operator, consistency check fails\n",
    "    if any(consistency_check['operator'] > 1):\n",
    "        print(\"Inconsistency found in operator assignments:\")\n",
    "\n",
    "        print(consistency_check[consistency_check['operator'] > 1])\n",
    "        return False\n",
    "    return True"
   ]
  },
  {
   "cell_type": "code",
   "execution_count": null,
   "metadata": {},
   "outputs": [],
   "source": [
    "dfs_to_check_operator = [emissions_co2_df, emissions_nox_df, emissions_water_df, emissions_oil_spill_df]\n",
    "on_columns = ['year', 'field', 'org_number']\n",
    "\n",
    "check_operator_consistency(dfs_to_check_operator, on_columns)"
   ]
  },
  {
   "cell_type": "code",
   "execution_count": null,
   "metadata": {},
   "outputs": [],
   "source": [
    "display(emissions_co2_df.head())"
   ]
  },
  {
   "cell_type": "code",
   "execution_count": null,
   "metadata": {},
   "outputs": [],
   "source": [
    "from functools import reduce\n",
    "\n",
    "def merge_emission_data(dfs, on_columns, operator_df.head()):\n",
    "    \"\"\"\n",
    "    Merges a list of DataFrames on specified columns, keeping the operator from a specific DataFrame.\n",
    "\n",
    "    Parameters:\n",
    "    dfs (list of pd.DataFrame): List of DataFrames to merge.\n",
    "    on_columns (list of str): List of column names to merge on.\n",
    "    operator_df (pd.DataFrame): DataFrame to take the operator column from.\n",
    "\n",
    "    Returns:\n",
    "    pd.DataFrame: The merged DataFrame with the operator column from operator_df.\n",
    "    \"\"\"\n",
    "    # Ensure the operator column is only in operator_df\n",
    "    dfs_no_operator = [df.drop(columns=['operator'], errors='ignore') for df in dfs if not df.equals(operator_df.head())]\n",
    "\n",
    "    # Merge the DataFrames sequentially\n",
    "    merged_df = reduce(lambda left, right: pd.merge(left, right, on=on_columns, how='outer'), dfs_no_operator)\n",
    "    \n",
    "    # Merge with the operator_df to add the operator column\n",
    "    merged_df = pd.merge(merged_df, operator_df, on=on_columns, how='left', suffixes=('', '_drop'))\n",
    "    \n",
    "    # Drop any duplicate columns that were suffixed with '_drop'\n",
    "    merged_df = merged_df.loc[:, ~merged_df.columns.str.endswith('_drop')]\n",
    "\n",
    "    return merged_df\n"
   ]
  },
  {
   "cell_type": "code",
   "execution_count": null,
   "metadata": {},
   "outputs": [],
   "source": [
    "\n",
    "# Merged DataFrame, keeping the operator from emissions_co2_df\n",
    "emissions_df = merge_emission_data(emissions_dfs, on_columns, emissions_co2_df.head())\n"
   ]
  },
  {
   "cell_type": "code",
   "execution_count": null,
   "metadata": {},
   "outputs": [],
   "source": [
    "display(emissions_df.head())"
   ]
  },
  {
   "cell_type": "code",
   "execution_count": null,
   "metadata": {},
   "outputs": [],
   "source": [
    "# Checking number of NaNs in merged_df\n",
    "\n",
    "emissions_df.isna().sum()"
   ]
  },
  {
   "cell_type": "code",
   "execution_count": null,
   "metadata": {},
   "outputs": [],
   "source": [
    "display(emissions_df.tail(30))"
   ]
  },
  {
   "cell_type": "code",
   "execution_count": null,
   "metadata": {},
   "outputs": [],
   "source": [
    "# Finding out which fields has the most NaN values and how many per column\n",
    "\n",
    "\n",
    "# Group by 'field' and count NaN values in each column for each field\n",
    "nan_counts_per_field = emissions_df.groupby('field').apply(lambda x: x.isna().sum())\n",
    "\n",
    "# Remove the rows that have 0 for all columns\n",
    "df = df.loc[~(df == 0).all(axis=1)]\n",
    "\n",
    "print(\"NaN counts per field and column:\")\n",
    "(nan_counts_per_field)"
   ]
  },
  {
   "cell_type": "code",
   "execution_count": null,
   "metadata": {},
   "outputs": [],
   "source": [
    "# Removing yearly_subsea_water_emissions column from emissions_df\n",
    "emissions_df = emissions_df.drop(columns=['yearly_subsea_water_emissions'])"
   ]
  },
  {
   "cell_type": "code",
   "execution_count": null,
   "metadata": {},
   "outputs": [],
   "source": [
    "# Checking the year 2013 for the field 'statfjord nord'\n",
    "\n",
    "emissions_ch4_df[(emissions_ch4_df['year'] == 2013) & (emissions_ch4_df['field'] == 'statfjord nord')]"
   ]
  },
  {
   "cell_type": "code",
   "execution_count": null,
   "metadata": {},
   "outputs": [],
   "source": [
    "# Deleting the rows that has NaN values for the columns operator, yearly_nox_emissions_tons, and yearly_ch4_emissions_tons\n",
    "\n",
    "emissions_df = emissions_df.dropna(subset=['operator', 'yearly_nox_emissions_tons', 'yearly_ch4_emissions_tons'])"
   ]
  },
  {
   "cell_type": "code",
   "execution_count": null,
   "metadata": {},
   "outputs": [],
   "source": [
    "emissions_df.isna().sum()"
   ]
  },
  {
   "cell_type": "code",
   "execution_count": null,
   "metadata": {},
   "outputs": [],
   "source": [
    "emissions_df['operator'].value_counts()"
   ]
  },
  {
   "cell_type": "markdown",
   "metadata": {},
   "source": [
    "Author: Per Christian Wessel\n",
    "\n",
    "Last updated: 2024-06-02\n",
    "\n",
    "Python implementation: CPython\n",
    "Python version : 3.9.13\n",
    "IPython version : 8.12.0\n",
    "\n",
    "pandas : 1.4.3\n",
    "numpy : 1.23.5\n",
    "scipy : 1.10.0\n",
    "matplotlib: 3.7.1\n",
    "\n",
    "Compiler : Clang 13.0.1\n",
    "OS : Darwin\n",
    "Release : 23.4.0\n",
    "Machine : x86_64\n",
    "Processor : i386\n",
    "CPU cores : 8\n",
    "Architecture: 64bit\n"
   ]
  }
 ],
 "metadata": {
  "kernelspec": {
   "display_name": "Python 3",
   "language": "python",
   "name": "python3"
  },
  "language_info": {
   "codemirror_mode": {
    "name": "ipython",
    "version": 3
   },
   "file_extension": ".py",
   "mimetype": "text/x-python",
   "name": "python",
   "nbconvert_exporter": "python",
   "pygments_lexer": "ipython3",
   "version": "3.9.13"
  }
 },
 "nbformat": 4,
 "nbformat_minor": 2
}
